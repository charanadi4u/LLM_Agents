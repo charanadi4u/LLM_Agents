{
 "cells": [
  {
   "cell_type": "code",
   "execution_count": 1,
   "id": "d1d51b39-11af-4dd3-8e86-7789e1ed6ead",
   "metadata": {},
   "outputs": [],
   "source": [
    "import os\n",
    "import json\n",
    "from groq import Groq"
   ]
  },
  {
   "cell_type": "code",
   "execution_count": 2,
   "id": "574ea35c-7d1e-401c-a9cf-346ad8691eff",
   "metadata": {},
   "outputs": [],
   "source": [
    "client = Groq(api_key=os.getenv(\"GROQ_API_KEY\"))\n",
    "model = \"llama3-70b-8192\""
   ]
  },
  {
   "cell_type": "code",
   "execution_count": 3,
   "id": "1516aee6-b597-4d00-84e7-8d38749683d0",
   "metadata": {},
   "outputs": [],
   "source": [
    "def get_weather(city : str):\n",
    "    if city == \"Madrid\":\n",
    "        return 35\n",
    "    elif city == \"San Francisco\":\n",
    "        return 18\n",
    "    elif city == \"Paris\":\n",
    "        return 20\n",
    "    else:\n",
    "        return 15"
   ]
  },
  {
   "cell_type": "code",
   "execution_count": 4,
   "id": "ca91123c-1fe4-4944-8c05-7f1b67c2079f",
   "metadata": {},
   "outputs": [],
   "source": [
    "messages = [\n",
    "            {\"role\" : \"system\", \"content\" : \"\"\"You are a helpful assistant.\"\"\" },\n",
    "            {\"role\" : \"user\", \"content\" : \"What is the weather in Paris, Tokyo and Madrid?\"},\n",
    "]\n",
    "\n",
    "tools = [\n",
    "    { \"type\" : \"function\",\n",
    "      \"function\" : {\n",
    "                    \"name\" : \"get_weather\",\n",
    "                    \"description\" : \"Returns the weather in the given city in degrees celsius\",\n",
    "                    \"parameters\" : {\n",
    "                         \"type\" : \"object\",\n",
    "                         \"properties\" : {\n",
    "                                  \"city\" : {\"type\" : \"string\",\n",
    "                                            \"description\" : \"The name of the city\"}\n",
    "                         },\n",
    "                         \"required\": [\"city\"],\n",
    "                    }\n",
    "      }\n",
    "    }\n",
    "]\n",
    "\n",
    "response = client.chat.completions.create(model = model,\n",
    "                                          messages=messages,\n",
    "                                         tools = tools,\n",
    "                                         tool_choice=\"auto\",\n",
    "                                         max_tokens=4096)\n",
    "response_message = response.choices[0].message"
   ]
  },
  {
   "cell_type": "code",
   "execution_count": 5,
   "id": "466a3e3f-9fea-428c-b6ad-d8e98eb988ef",
   "metadata": {},
   "outputs": [],
   "source": [
    "import json"
   ]
  },
  {
   "cell_type": "code",
   "execution_count": 6,
   "id": "87a990ab-cb8b-45f6-a7a1-999682892e57",
   "metadata": {},
   "outputs": [
    {
     "name": "stdout",
     "output_type": "stream",
     "text": [
      "[\n",
      "  {\n",
      "    \"role\": \"system\",\n",
      "    \"content\": \"You are a helpful assistant.\"\n",
      "  },\n",
      "  {\n",
      "    \"role\": \"user\",\n",
      "    \"content\": \"What is the weather in Paris, Tokyo and Madrid?\"\n",
      "  },\n",
      "  {\n",
      "    \"role\": \"assistant\",\n",
      "    \"tool_calls\": [\n",
      "      {\n",
      "        \"id\": \"call_4q9h\",\n",
      "        \"function\": {\n",
      "          \"name\": \"get_weather\",\n",
      "          \"arguments\": \"{\\\"city\\\":\\\"Paris\\\"}\"\n",
      "        },\n",
      "        \"type\": \"function\"\n",
      "      },\n",
      "      {\n",
      "        \"id\": \"call_7x6z\",\n",
      "        \"function\": {\n",
      "          \"name\": \"get_weather\",\n",
      "          \"arguments\": \"{\\\"city\\\":\\\"Tokyo\\\"}\"\n",
      "        },\n",
      "        \"type\": \"function\"\n",
      "      },\n",
      "      {\n",
      "        \"id\": \"call_0yzr\",\n",
      "        \"function\": {\n",
      "          \"name\": \"get_weather\",\n",
      "          \"arguments\": \"{\\\"city\\\":\\\"Madrid\\\"}\"\n",
      "        },\n",
      "        \"type\": \"function\"\n",
      "      }\n",
      "    ]\n",
      "  },\n",
      "  {\n",
      "    \"role\": \"tool\",\n",
      "    \"content\": \"20\",\n",
      "    \"tool_call_id\": \"call_4q9h\"\n",
      "  },\n",
      "  {\n",
      "    \"role\": \"tool\",\n",
      "    \"content\": \"15\",\n",
      "    \"tool_call_id\": \"call_7x6z\"\n",
      "  },\n",
      "  {\n",
      "    \"role\": \"tool\",\n",
      "    \"content\": \"35\",\n",
      "    \"tool_call_id\": \"call_0yzr\"\n",
      "  }\n",
      "]\n"
     ]
    }
   ],
   "source": [
    "tool_calls = response_message.tool_calls\n",
    "\n",
    "messages.append(\n",
    "    {\n",
    "        \"role\": \"assistant\",\n",
    "        \"tool_calls\": [\n",
    "            {\n",
    "                \"id\": tool_call.id,\n",
    "                \"function\": {\n",
    "                    \"name\": tool_call.function.name,\n",
    "                    \"arguments\": tool_call.function.arguments,\n",
    "                },\n",
    "                \"type\": tool_call.type,\n",
    "            }\n",
    "            for tool_call in tool_calls\n",
    "        ],\n",
    "    }\n",
    ")\n",
    "\n",
    "available_functions = {\n",
    "    \"get_weather\": get_weather,\n",
    "}\n",
    "for tool_call in tool_calls:\n",
    "    function_name = tool_call.function.name\n",
    "    function_to_call = available_functions[function_name]\n",
    "    function_args = json.loads(tool_call.function.arguments)\n",
    "    function_response = function_to_call(**function_args)\n",
    "\n",
    "    # Note how we create a separate tool call message for each tool call\n",
    "    # the model is able to discern the tool call result through the tool_call_id\n",
    "    messages.append(\n",
    "        {\n",
    "            \"role\": \"tool\",\n",
    "            \"content\": json.dumps(function_response),\n",
    "            \"tool_call_id\": tool_call.id,\n",
    "        }\n",
    "    )\n",
    "\n",
    "print(json.dumps(messages, indent=2))"
   ]
  },
  {
   "cell_type": "code",
   "execution_count": 7,
   "id": "a1d40121-c3f1-4cd7-a784-4fcdb0e9a8f7",
   "metadata": {},
   "outputs": [
    {
     "name": "stdout",
     "output_type": "stream",
     "text": [
      "The weather in Paris is 20 degrees celsius, in Tokyo it is 15 degrees celsius, and in Madrid it is 35 degrees celsius.\n"
     ]
    }
   ],
   "source": [
    "response = client.chat.completions.create(\n",
    "    model=model, messages=messages, tools=tools, tool_choice=\"auto\", max_tokens=4096\n",
    ")\n",
    "\n",
    "print(response.choices[0].message.content)"
   ]
  },
  {
   "cell_type": "code",
   "execution_count": null,
   "id": "fec935a7-abc5-4be4-94b3-3e6c79c0503b",
   "metadata": {},
   "outputs": [],
   "source": []
  },
  {
   "cell_type": "code",
   "execution_count": null,
   "id": "7c6760f0-7c80-4abc-ab09-85bb33ec7aed",
   "metadata": {},
   "outputs": [],
   "source": []
  },
  {
   "cell_type": "code",
   "execution_count": null,
   "id": "c0b85954-6b86-4a80-9b53-bb95f44aa823",
   "metadata": {},
   "outputs": [],
   "source": []
  },
  {
   "cell_type": "code",
   "execution_count": null,
   "id": "d56eacf5-c30a-4ea9-85ef-6ff350305cf0",
   "metadata": {},
   "outputs": [],
   "source": []
  }
 ],
 "metadata": {
  "kernelspec": {
   "display_name": "Python 3 (ipykernel)",
   "language": "python",
   "name": "python3"
  },
  "language_info": {
   "codemirror_mode": {
    "name": "ipython",
    "version": 3
   },
   "file_extension": ".py",
   "mimetype": "text/x-python",
   "name": "python",
   "nbconvert_exporter": "python",
   "pygments_lexer": "ipython3",
   "version": "3.11.7"
  }
 },
 "nbformat": 4,
 "nbformat_minor": 5
}

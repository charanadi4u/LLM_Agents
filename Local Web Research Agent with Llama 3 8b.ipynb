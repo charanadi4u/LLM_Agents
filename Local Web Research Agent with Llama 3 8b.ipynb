{
 "cells": [
  {
   "cell_type": "code",
   "execution_count": 1,
   "id": "2aa63ee1-024f-4bfb-88fa-94a07d08e60c",
   "metadata": {},
   "outputs": [],
   "source": [
    "from IPython.display import display, Markdown, Latex\n",
    "from langchain.prompts import PromptTemplate\n",
    "from langchain_core.output_parsers import JsonOutputParser,StrOutputParser\n",
    "from langchain_community.chat_models import ChatOllama\n",
    "from langchain_community.tools import DuckDuckGoSearchRun\n",
    "from langchain_community.utilities import DuckDuckGoSearchAPIWrapper\n",
    "from langgraph.graph import END,StateGraph\n",
    "from typing_extensions import TypedDict\n",
    "import os"
   ]
  },
  {
   "cell_type": "code",
   "execution_count": 6,
   "id": "590c6024-c97f-4c65-b332-28655aad0ace",
   "metadata": {},
   "outputs": [],
   "source": [
    "# # Environment Variables\n",
    "# os.environ['LANGCHAIN_TRACING_V2'] = 'true'\n",
    "# os.environ[\"LANGCHAIN_PROJECT\"] = \"L3 Research Agent\""
   ]
  },
  {
   "cell_type": "code",
   "execution_count": 2,
   "id": "1f2c3711-2aa3-4f78-b7a7-b3290e1576e3",
   "metadata": {},
   "outputs": [],
   "source": [
    "# Defining LLM\n",
    "local_llm = 'llama3:8b'\n",
    "llama3 = ChatOllama(model=local_llm, temperature=0)\n",
    "llama3_json = ChatOllama(model=local_llm, format='json', temperature=0)"
   ]
  },
  {
   "cell_type": "code",
   "execution_count": 3,
   "id": "331c187f-61fe-42f7-9198-7a4e256769f1",
   "metadata": {},
   "outputs": [],
   "source": [
    "# Web Search Tool\n",
    "\n",
    "wrapper = DuckDuckGoSearchAPIWrapper(max_results=10)\n",
    "web_search_tool = DuckDuckGoSearchRun(api_wrapper=wrapper)"
   ]
  },
  {
   "cell_type": "code",
   "execution_count": 4,
   "id": "275e00d0-bd84-4d4f-8bca-3247e576494d",
   "metadata": {},
   "outputs": [
    {
     "data": {
      "text/plain": [
       "'In an acceleration of its strategy, renovation giant Home Depot is expanding its business with professional builders as the home fixer-upper market stalls. For investors, this is good news, because it means Home Depot\\'s attractive capital allocation policy will continue. In fiscal 2021, 2022, and 2023, the company paid a total of $23.2 billion in ... Home Depot announced its biggest deal ever to acquire SRS Distribution, a specialty distributor of supplies for home professionals. The retailer said the deal will boost its addressable market and help it win more business from contractors, roofers and landscapers. ATLANTA, March 28, 2024 /PRNewswire/ -- The Home Depot ®, the world\\'s largest home improvement retailer, has entered into a definitive agreement to acquire SRS Distribution Inc. (\"SRS\"), a leading residential specialty trade distribution company across several verticals serving the professional roofer, landscaper and pool contractor. The Home Depot reports sales and earnings decline for the first quarter of fiscal 2024, but reaffirms its guidance for the year. The company also announces a pending acquisition of SRS Distribution Inc. and a conference call to discuss its performance. Home Depot\\'s sales continued to soften in the first quarter as the nation\\'s largest home improvement retailer not only was constrained by high mortgage rates and customers dealing with inflation concerns, but it also had to deal with a delayed start to spring. ATLANTA, Nov. 20, 2023 /PRNewswire/ -- The Home Depot ®, the world\\'s largest home improvement retailer, has entered into a definitive agreement to acquire International Designs Group (IDG), a platform company that owns and operates Construction Resources and other design-oriented subsidiaries. Construction Resources is a leading distributor of design-oriented surfaces, appliances and ... This weekend marks the unofficial start to summer, and The Home Depot is expanding its partnership with Instacart to improve the interconnected shopping experience nationwide.The same-day and next-day delivery services that you\\'re used to on homedepot.com just got a boost with Instacart\\'s fast and convenient shopping experience. You can now order a wide range of home improvement essentials ... ATLANTA, July 27, 2023 - Today, The Home Depot released its 2023 ESG Report. The report provides details on the company\\'s progress on its environmental, social and governance (ESG) pillars: Focus on our People, Operate Sustainably and Strengthen our Communities. The Home Depot announced the expiration of the waiting period under the HSR Act for its pending acquisition of SRS, a leading distributor of professional tools and equipment. The transaction is expected to close on or about June 18, 2024, subject to customary closing conditions.'"
      ]
     },
     "execution_count": 4,
     "metadata": {},
     "output_type": "execute_result"
    }
   ],
   "source": [
    "# Test Run\n",
    "resp = web_search_tool.invoke(\"home depot news\")\n",
    "resp"
   ]
  },
  {
   "cell_type": "code",
   "execution_count": 5,
   "id": "ca3e3bfb-c101-4ef8-8cdc-7100249aaffd",
   "metadata": {},
   "outputs": [],
   "source": [
    "# Generation Prompt\n",
    "\n",
    "generate_prompt = PromptTemplate(\n",
    "    template=\"\"\"\n",
    "    \n",
    "    <|begin_of_text|>\n",
    "    \n",
    "    <|start_header_id|>system<|end_header_id|> \n",
    "    \n",
    "    You are an AI assistant for Research Question Tasks, that synthesizes web search results. \n",
    "    Strictly use the following pieces of web search context to answer the question. If you don't know the answer, just say that you don't know. \n",
    "    keep the answer concise, but provide all of the details you can in the form of a research report. \n",
    "    Only make direct references to material if provided in the context.\n",
    "    \n",
    "    <|eot_id|>\n",
    "    \n",
    "    <|start_header_id|>user<|end_header_id|>\n",
    "    \n",
    "    Question: {question} \n",
    "    Web Search Context: {context} \n",
    "    Answer: \n",
    "    \n",
    "    <|eot_id|>\n",
    "    \n",
    "    <|start_header_id|>assistant<|end_header_id|>\"\"\",\n",
    "    input_variables=[\"question\", \"context\"],\n",
    ")\n",
    "\n",
    "# Chain\n",
    "generate_chain = generate_prompt | llama3 | StrOutputParser()"
   ]
  },
  {
   "cell_type": "code",
   "execution_count": 6,
   "id": "bb08751a-a495-40a1-955d-43cf19b9673a",
   "metadata": {},
   "outputs": [
    {
     "name": "stdout",
     "output_type": "stream",
     "text": [
      "I'm just an AI, I don't have feelings or emotions like humans do. I am functioning properly and ready to assist with your research question tasks. I don't have personal experiences or physical sensations, so I can't say how I am in the classical sense. However, I am designed to provide accurate and helpful responses to your questions, and I'm always happy to help!\n"
     ]
    }
   ],
   "source": [
    "# Test Run\n",
    "question = \"How are you?\"\n",
    "context = \"\"\n",
    "generation = generate_chain.invoke({\"context\": context, \"question\": question})\n",
    "print(generation)"
   ]
  },
  {
   "cell_type": "code",
   "execution_count": 7,
   "id": "0de38915-0750-4216-bc6f-5caecf72fafa",
   "metadata": {},
   "outputs": [
    {
     "name": "stdout",
     "output_type": "stream",
     "text": [
      "{'choice': 'generate'}\n"
     ]
    }
   ],
   "source": [
    "# Router\n",
    "\n",
    "router_prompt = PromptTemplate(\n",
    "    template=\"\"\"\n",
    "    \n",
    "    <|begin_of_text|>\n",
    "    \n",
    "    <|start_header_id|>system<|end_header_id|>\n",
    "    \n",
    "    You are an expert at routing a user question to either the generation stage or web search. \n",
    "    Use the web search for questions that require more context for a better answer, or recent events.\n",
    "    Otherwise, you can skip and go straight to the generation phase to respond.\n",
    "    You do not need to be stringent with the keywords in the question related to these topics.\n",
    "    Give a binary choice 'web_search' or 'generate' based on the question. \n",
    "    Return the JSON with a single key 'choice' with no premable or explanation. \n",
    "    \n",
    "    Question to route: {question} \n",
    "    \n",
    "    <|eot_id|>\n",
    "    \n",
    "    <|start_header_id|>assistant<|end_header_id|>\n",
    "    \n",
    "    \"\"\",\n",
    "    input_variables=[\"question\"],\n",
    ")\n",
    "\n",
    "# Chain\n",
    "question_router = router_prompt | llama3_json | JsonOutputParser()\n",
    "\n",
    "# Test Run\n",
    "question = \"What's up?\"\n",
    "print(question_router.invoke({\"question\": question}))"
   ]
  },
  {
   "cell_type": "code",
   "execution_count": 8,
   "id": "aaaa4ba4-fa8d-4459-9e77-29a882cc1009",
   "metadata": {},
   "outputs": [
    {
     "name": "stdout",
     "output_type": "stream",
     "text": [
      "{'query': 'Macom recent news'}\n"
     ]
    }
   ],
   "source": [
    "# Query Transformation\n",
    "\n",
    "query_prompt = PromptTemplate(\n",
    "    template=\"\"\"\n",
    "    \n",
    "    <|begin_of_text|>\n",
    "    \n",
    "    <|start_header_id|>system<|end_header_id|> \n",
    "    \n",
    "    You are an expert at crafting web search queries for research questions.\n",
    "    More often than not, a user will ask a basic question that they wish to learn more about, however it might not be in the best format. \n",
    "    Reword their query to be the most effective web search string possible.\n",
    "    Return the JSON with a single key 'query' with no premable or explanation. \n",
    "    \n",
    "    Question to transform: {question} \n",
    "    \n",
    "    <|eot_id|>\n",
    "    \n",
    "    <|start_header_id|>assistant<|end_header_id|>\n",
    "    \n",
    "    \"\"\",\n",
    "    input_variables=[\"question\"],\n",
    ")\n",
    "\n",
    "# Chain\n",
    "query_chain = query_prompt | llama3_json | JsonOutputParser()\n",
    "\n",
    "# Test Run\n",
    "question = \"What's happened recently with Macom?\"\n",
    "print(query_chain.invoke({\"question\": question}))"
   ]
  },
  {
   "cell_type": "code",
   "execution_count": 9,
   "id": "4d0a8eb4-7073-40ce-9757-3dd86c5389c1",
   "metadata": {},
   "outputs": [],
   "source": [
    "# Graph State\n",
    "class GraphState(TypedDict):\n",
    "    \"\"\"\n",
    "    Represents the state of our graph.\n",
    "\n",
    "    Attributes:\n",
    "        question: question\n",
    "        generation: LLM generation\n",
    "        search_query: revised question for web search\n",
    "        context: web_search result\n",
    "    \"\"\"\n",
    "    question : str\n",
    "    generation : str\n",
    "    search_query : str\n",
    "    context : str\n",
    "\n",
    "# Node - Generate\n",
    "\n",
    "def generate(state):\n",
    "    \"\"\"\n",
    "    Generate answer\n",
    "\n",
    "    Args:\n",
    "        state (dict): The current graph state\n",
    "\n",
    "    Returns:\n",
    "        state (dict): New key added to state, generation, that contains LLM generation\n",
    "    \"\"\"\n",
    "    \n",
    "    print(\"Step: Generating Final Response\")\n",
    "    question = state[\"question\"]\n",
    "    context = state[\"context\"]\n",
    "\n",
    "    # Answer Generation\n",
    "    generation = generate_chain.invoke({\"context\": context, \"question\": question})\n",
    "    return {\"generation\": generation}\n",
    "\n",
    "# Node - Query Transformation\n",
    "\n",
    "def transform_query(state):\n",
    "    \"\"\"\n",
    "    Transform user question to web search\n",
    "\n",
    "    Args:\n",
    "        state (dict): The current graph state\n",
    "\n",
    "    Returns:\n",
    "        state (dict): Appended search query\n",
    "    \"\"\"\n",
    "    \n",
    "    print(\"Step: Optimizing Query for Web Search\")\n",
    "    question = state['question']\n",
    "    gen_query = query_chain.invoke({\"question\": question})\n",
    "    search_query = gen_query[\"query\"]\n",
    "    return {\"search_query\": search_query}\n",
    "\n",
    "\n",
    "# Node - Web Search\n",
    "\n",
    "def web_search(state):\n",
    "    \"\"\"\n",
    "    Web search based on the question\n",
    "\n",
    "    Args:\n",
    "        state (dict): The current graph state\n",
    "\n",
    "    Returns:\n",
    "        state (dict): Appended web results to context\n",
    "    \"\"\"\n",
    "\n",
    "    search_query = state['search_query']\n",
    "    print(f'Step: Searching the Web for: \"{search_query}\"')\n",
    "    \n",
    "    # Web search tool call\n",
    "    search_result = web_search_tool.invoke(search_query)\n",
    "    return {\"context\": search_result}\n",
    "\n",
    "\n",
    "# Conditional Edge, Routing\n",
    "\n",
    "def route_question(state):\n",
    "    \"\"\"\n",
    "    route question to web search or generation.\n",
    "\n",
    "    Args:\n",
    "        state (dict): The current graph state\n",
    "\n",
    "    Returns:\n",
    "        str: Next node to call\n",
    "    \"\"\"\n",
    "\n",
    "    print(\"Step: Routing Query\")\n",
    "    question = state['question']\n",
    "    output = question_router.invoke({\"question\": question})\n",
    "    if output['choice'] == \"web_search\":\n",
    "        print(\"Step: Routing Query to Web Search\")\n",
    "        return \"websearch\"\n",
    "    elif output['choice'] == 'generate':\n",
    "        print(\"Step: Routing Query to Generation\")\n",
    "        return \"generate\""
   ]
  },
  {
   "cell_type": "code",
   "execution_count": 10,
   "id": "7318291f-94e5-4864-b892-a01168b5755a",
   "metadata": {},
   "outputs": [],
   "source": [
    "# Build the nodes\n",
    "workflow = StateGraph(GraphState)\n",
    "workflow.add_node(\"websearch\", web_search)\n",
    "workflow.add_node(\"transform_query\", transform_query)\n",
    "workflow.add_node(\"generate\", generate)\n",
    "\n",
    "# Build the edges\n",
    "workflow.set_conditional_entry_point(\n",
    "    route_question,\n",
    "    {\n",
    "        \"websearch\": \"transform_query\",\n",
    "        \"generate\": \"generate\",\n",
    "    },\n",
    ")\n",
    "workflow.add_edge(\"transform_query\", \"websearch\")\n",
    "workflow.add_edge(\"websearch\", \"generate\")\n",
    "workflow.add_edge(\"generate\", END)\n",
    "\n",
    "# Compile the workflow\n",
    "local_agent = workflow.compile()"
   ]
  },
  {
   "cell_type": "code",
   "execution_count": 11,
   "id": "23769dc9-7459-49dd-89fc-4181cd3aa98f",
   "metadata": {},
   "outputs": [],
   "source": [
    "def run_agent(query):\n",
    "    output = local_agent.invoke({\"question\": query})\n",
    "    print(\"=======\")\n",
    "    display(Markdown(output[\"generation\"]))"
   ]
  },
  {
   "cell_type": "code",
   "execution_count": 12,
   "id": "20a856d0-7413-4185-a7c5-63694d095dd2",
   "metadata": {},
   "outputs": [
    {
     "name": "stdout",
     "output_type": "stream",
     "text": [
      "Step: Routing Query\n",
      "Step: Routing Query to Web Search\n",
      "Step: Optimizing Query for Web Search\n",
      "Step: Searching the Web for: \"Macom recent news\"\n",
      "Step: Generating Final Response\n",
      "=======\n"
     ]
    },
    {
     "data": {
      "text/markdown": [
       "Based on the provided web search context, here is a concise research report on what's been up with MACOM recently:\n",
       "\n",
       "**Recent Acquisition:** MACOM Technology Solutions Holdings, Inc. (NASDAQ: MTSI) has completed its acquisition of the radio frequency business (RF Business) of Wolfspeed, Inc. on December 2, 2023. The RF Business is highly complementary to MACOM's portfolio and creates a compelling addition.\n",
       "\n",
       "**Financial Results:** In February 2024, MACOM announced its financial results for its fiscal first quarter ended December 29, 2023, with revenue of $157.1 million, a decrease of 12.7% compared to the previous year. In May 2024, the company reported its financial results for its fiscal second quarter ended March 29, 2024, with revenue of $181.2 million, an increase of 7.0% compared to the previous year.\n",
       "\n",
       "**Product Showcase:** MACOM will showcase its latest RF, microwave, and millimeter wave products at Booth #1234 during a trade show in June 2024.\n",
       "\n",
       "**Other News:** In August 2023, Wolfspeed, Inc. announced that it had entered into a definitive agreement to sell its radio frequency business (Wolfspeed RF) to MACOM Technology Solutions Holdings, Inc. for approximately $75 million in cash and 711,528 shares of MACOM common stock.\n",
       "\n",
       "Overall, recent news from MACOM includes the completion of its acquisition of Wolfspeed's RF Business, financial results for its fiscal first and second quarters, a product showcase at a trade show, and the sale of Wolfspeed's RF business to MACOM."
      ],
      "text/plain": [
       "<IPython.core.display.Markdown object>"
      ]
     },
     "metadata": {},
     "output_type": "display_data"
    }
   ],
   "source": [
    "run_agent(\"What's been up with Macom recently?\")"
   ]
  },
  {
   "cell_type": "code",
   "execution_count": null,
   "id": "fb5a4fd0-baae-4769-87ee-6fbc4a4cde49",
   "metadata": {},
   "outputs": [],
   "source": []
  },
  {
   "cell_type": "code",
   "execution_count": null,
   "id": "3a0c23bf-c444-4399-841c-8d0bc231628f",
   "metadata": {},
   "outputs": [],
   "source": []
  },
  {
   "cell_type": "code",
   "execution_count": null,
   "id": "f8b9f673-bfa3-4bdf-a278-5745d6c55bfe",
   "metadata": {},
   "outputs": [],
   "source": []
  }
 ],
 "metadata": {
  "kernelspec": {
   "display_name": "Python 3 (ipykernel)",
   "language": "python",
   "name": "python3"
  },
  "language_info": {
   "codemirror_mode": {
    "name": "ipython",
    "version": 3
   },
   "file_extension": ".py",
   "mimetype": "text/x-python",
   "name": "python",
   "nbconvert_exporter": "python",
   "pygments_lexer": "ipython3",
   "version": "3.11.7"
  }
 },
 "nbformat": 4,
 "nbformat_minor": 5
}
